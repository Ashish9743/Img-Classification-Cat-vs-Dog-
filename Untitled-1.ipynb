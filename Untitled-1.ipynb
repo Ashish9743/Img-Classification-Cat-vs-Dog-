{
 "cells": [
  {
   "cell_type": "code",
   "execution_count": 2,
   "metadata": {},
   "outputs": [],
   "source": [
    "import pandas as pd\n",
    "import numpy as np\n",
    "import matplotlib.pyplot as plt\n",
    "\n",
    "\n",
    "from tensorflow.keras.models import Sequential\n",
    "from tensorflow.keras.layers import Conv2D, Dense, Dropout, Flatten, MaxPooling2D\n",
    "from tensorflow.keras.optimizers import Adam\n",
    "\n",
    "\n"
   ]
  },
  {
   "cell_type": "code",
   "execution_count": 3,
   "metadata": {},
   "outputs": [],
   "source": [
    "import glob\n",
    "\n",
    "cats_train = glob.glob(r\"C:\\Users\\ashis\\OneDrive\\Desktop\\Assignment 5\\train\\cat\\*\")\n",
    "dogs_train = glob.glob(r\"C:\\Users\\ashis\\OneDrive\\Desktop\\Assignment 5\\train\\dog\\*\")\n",
    "\n"
   ]
  },
  {
   "cell_type": "code",
   "execution_count": 4,
   "metadata": {},
   "outputs": [],
   "source": [
    "from tensorflow.keras.utils import load_img\n",
    "\n",
    "def prepare_data(input_path = None, batch = True):\n",
    "    img_1 = load_img(input_path,target_size=(224,224))\n",
    "    img_1 = np.array(img_1)\n",
    "    # plt.imshow(img_1)\n",
    "   \n",
    "    if batch:\n",
    "        img_1 = img_1.reshape(224, 224, 3)\n",
    "    else: \n",
    "        img_1 = img_1.reshape(-1, 224, 224, 3)\n",
    "    return img_1"
   ]
  },
  {
   "cell_type": "code",
   "execution_count": 5,
   "metadata": {},
   "outputs": [],
   "source": [
    "x_train = []\n",
    "\n",
    "y_train = []\n",
    "\n",
    "\n",
    "# print(\"Preparing \")\n",
    "for i in range(len(cats_train)):\n",
    "    x_train.append(prepare_data(cats_train[i]))\n",
    "    y_train.append(0)\n",
    "                  \n",
    "for i in range(len(dogs_train)):\n",
    "    x_train.append(prepare_data(dogs_train[i]))\n",
    "    y_train.append(1)\n"
   ]
  },
  {
   "cell_type": "code",
   "execution_count": 6,
   "metadata": {},
   "outputs": [
    {
     "name": "stdout",
     "output_type": "stream",
     "text": [
      "(344, 224, 224, 3)\n",
      "(344, 2)\n",
      "(344, 224, 224, 3)\n",
      "(344, 2)\n"
     ]
    }
   ],
   "source": [
    "x_train = np.array(x_train)\n",
    "\n",
    "y_train = np.array(y_train)\n",
    "\n",
    "\n",
    "from tensorflow.keras.utils import to_categorical\n",
    "\n",
    "x_train = x_train.reshape(-1, 224, 224, 3)/255\n",
    "y_train_ohe = to_categorical(y_train)\n",
    "\n",
    "print(x_train.shape)\n",
    "print(y_train_ohe.shape)\n",
    "print(x_train.shape)\n",
    "print(y_train_ohe.shape)\n",
    "\n",
    "\n"
   ]
  },
  {
   "cell_type": "code",
   "execution_count": null,
   "metadata": {},
   "outputs": [],
   "source": [
    "from tensorflow.keras.layers import BatchNormalization\n",
    "\n",
    "model = Sequential()\n",
    "\n",
    "# model.add(Conv2D(  filters = 32,kernel_size =  (3, 3), activation='relu'))\n",
    "# model.add(Conv2D(filters = 32 ,kernel_size =  (3, 3), activation='relu'))\n",
    "# model.add(MaxPooling2D(pool_size = (2,2)))\n",
    "\n",
    "model.add(Conv2D(filters = 64,kernel_size =  (3, 3), activation='relu' , input_shape=(224, 224, 3)))\n",
    "model.add(Conv2D(filters = 64,kernel_size =  (3, 3), activation='relu'))\n",
    "\n",
    "model.add(MaxPooling2D(pool_size = (2,2)))\n",
    "\n",
    "model.add(Conv2D(filters = 128,kernel_size =  (3, 3), activation='relu'))\n",
    "model.add(Conv2D(filters = 128,kernel_size = (3, 3), activation='relu'))\n",
    "model.add(Conv2D(filters = 128,kernel_size = (3, 3), activation='relu'))\n",
    "\n",
    "model.add(MaxPooling2D(pool_size = (2,2)))\n",
    "\n",
    "\n",
    "model.add(Conv2D(filters = 256,kernel_size =  (3, 3), activation='relu'))\n",
    "model.add(Conv2D(filters = 256,kernel_size = (3, 3), activation='relu'))\n",
    "model.add(Conv2D(filters = 256,kernel_size = (3, 3), activation='relu'))\n",
    "\n",
    "\n",
    "model.add(MaxPooling2D(pool_size = (2,2)))\n",
    "\n",
    "\n",
    "# model.add(Conv2D(filters = 256,kernel_size =  (3, 3), activation='relu'))\n",
    "# model.add(Conv2D(filters = 256,kernel_size = (3, 3), activation='relu'))\n",
    "\n",
    "\n",
    "# model.add(Dropout(0.2))\n",
    "model.add(Flatten())\n",
    "\n",
    "model.add(Dense(200 , activation = \"relu\"))\n",
    "model.add(BatchNormalization())\n",
    "\n",
    "# model.add(Dense(50 , activation = \"relu\"))\n",
    "\n",
    "model.add(Dense(2 , activation = \"sigmoid\"))\n",
    "# model.build(input_shape=(None, 224, 224, 1))\n",
    "model.compile(optimizer=Adam(learning_rate = 0.0001), loss='binary_crossentropy', metrics=['accuracy'])\n"
   ]
  },
  {
   "cell_type": "code",
   "execution_count": 10,
   "metadata": {},
   "outputs": [
    {
     "name": "stdout",
     "output_type": "stream",
     "text": [
      "Epoch 1/10\n",
      "\u001b[1m7/7\u001b[0m \u001b[32m━━━━━━━━━━━━━━━━━━━━\u001b[0m\u001b[37m\u001b[0m \u001b[1m382s\u001b[0m 54s/step - accuracy: 0.5754 - loss: 0.6807 - val_accuracy: 1.0000 - val_loss: 0.6568\n",
      "Epoch 2/10\n",
      "\u001b[1m7/7\u001b[0m \u001b[32m━━━━━━━━━━━━━━━━━━━━\u001b[0m\u001b[37m\u001b[0m \u001b[1m386s\u001b[0m 57s/step - accuracy: 0.7414 - loss: 0.5708 - val_accuracy: 1.0000 - val_loss: 0.5093\n",
      "Epoch 3/10\n",
      "\u001b[1m7/7\u001b[0m \u001b[32m━━━━━━━━━━━━━━━━━━━━\u001b[0m\u001b[37m\u001b[0m \u001b[1m392s\u001b[0m 57s/step - accuracy: 0.8009 - loss: 0.4499 - val_accuracy: 1.0000 - val_loss: 0.5692\n",
      "Epoch 4/10\n",
      "\u001b[1m7/7\u001b[0m \u001b[32m━━━━━━━━━━━━━━━━━━━━\u001b[0m\u001b[37m\u001b[0m \u001b[1m468s\u001b[0m 68s/step - accuracy: 0.9214 - loss: 0.3070 - val_accuracy: 1.0000 - val_loss: 0.4670\n",
      "Epoch 5/10\n",
      "\u001b[1m7/7\u001b[0m \u001b[32m━━━━━━━━━━━━━━━━━━━━\u001b[0m\u001b[37m\u001b[0m \u001b[1m430s\u001b[0m 60s/step - accuracy: 0.9813 - loss: 0.2062 - val_accuracy: 1.0000 - val_loss: 0.4215\n",
      "Epoch 6/10\n",
      "\u001b[1m7/7\u001b[0m \u001b[32m━━━━━━━━━━━━━━━━━━━━\u001b[0m\u001b[37m\u001b[0m \u001b[1m429s\u001b[0m 63s/step - accuracy: 0.9860 - loss: 0.1464 - val_accuracy: 1.0000 - val_loss: 0.3472\n",
      "Epoch 7/10\n",
      "\u001b[1m7/7\u001b[0m \u001b[32m━━━━━━━━━━━━━━━━━━━━\u001b[0m\u001b[37m\u001b[0m \u001b[1m424s\u001b[0m 61s/step - accuracy: 1.0000 - loss: 0.0957 - val_accuracy: 1.0000 - val_loss: 0.2908\n",
      "Epoch 8/10\n",
      "\u001b[1m7/7\u001b[0m \u001b[32m━━━━━━━━━━━━━━━━━━━━\u001b[0m\u001b[37m\u001b[0m \u001b[1m413s\u001b[0m 59s/step - accuracy: 1.0000 - loss: 0.0711 - val_accuracy: 1.0000 - val_loss: 0.3934\n",
      "Epoch 9/10\n",
      "\u001b[1m7/7\u001b[0m \u001b[32m━━━━━━━━━━━━━━━━━━━━\u001b[0m\u001b[37m\u001b[0m \u001b[1m393s\u001b[0m 57s/step - accuracy: 1.0000 - loss: 0.0569 - val_accuracy: 1.0000 - val_loss: 0.2957\n",
      "Epoch 10/10\n",
      "\u001b[1m7/7\u001b[0m \u001b[32m━━━━━━━━━━━━━━━━━━━━\u001b[0m\u001b[37m\u001b[0m \u001b[1m419s\u001b[0m 61s/step - accuracy: 1.0000 - loss: 0.0405 - val_accuracy: 0.9855 - val_loss: 0.3658\n"
     ]
    },
    {
     "data": {
      "text/plain": [
       "<keras.src.callbacks.history.History at 0x1c73ad85d90>"
      ]
     },
     "execution_count": 10,
     "metadata": {},
     "output_type": "execute_result"
    }
   ],
   "source": [
    "model.fit(x_train,y_train_ohe, epochs=8, batch_size=40, validation_split = 0.2)"
   ]
  },
  {
   "cell_type": "code",
   "execution_count": 19,
   "metadata": {},
   "outputs": [
    {
     "name": "stdout",
     "output_type": "stream",
     "text": [
      "\u001b[1m1/1\u001b[0m \u001b[32m━━━━━━━━━━━━━━━━━━━━\u001b[0m\u001b[37m\u001b[0m \u001b[1m0s\u001b[0m 447ms/step\n"
     ]
    }
   ],
   "source": [
    "\n",
    "# pred1 = prepare_data(r\"C:\\Users\\ashis\\OneDrive\\Desktop\\Assignment 5\\cat_168.jpg\")\n",
    "pred1 = prepare_data(r\"C:\\Users\\ashis\\OneDrive\\Desktop\\Assignment 5\\american_bulldog_198_jpg.rf.6903a43b08cdf1dbb07c438fee82fc4b.jpg\")\n",
    "pred1 = pred1.reshape((1, 224, 224, 3))  \n",
    "prediction = model.predict(pred1)\n"
   ]
  },
  {
   "cell_type": "code",
   "execution_count": 20,
   "metadata": {},
   "outputs": [
    {
     "name": "stdout",
     "output_type": "stream",
     "text": [
      "[[0. 1.]]\n"
     ]
    }
   ],
   "source": [
    "print(prediction)"
   ]
  },
  {
   "cell_type": "code",
   "execution_count": 14,
   "metadata": {},
   "outputs": [
    {
     "ename": "ValueError",
     "evalue": "The truth value of an array with more than one element is ambiguous. Use a.any() or a.all()",
     "output_type": "error",
     "traceback": [
      "\u001b[1;31m---------------------------------------------------------------------------\u001b[0m",
      "\u001b[1;31mValueError\u001b[0m                                Traceback (most recent call last)",
      "Cell \u001b[1;32mIn[14], line 1\u001b[0m\n\u001b[1;32m----> 1\u001b[0m \u001b[38;5;28;01mif\u001b[39;00m prediction :\n\u001b[0;32m      2\u001b[0m     \u001b[38;5;28mprint\u001b[39m(\u001b[38;5;124m\"\u001b[39m\u001b[38;5;124mPrediction is Cat\u001b[39m\u001b[38;5;124m\"\u001b[39m)\n\u001b[0;32m      3\u001b[0m \u001b[38;5;28;01melse\u001b[39;00m:\n",
      "\u001b[1;31mValueError\u001b[0m: The truth value of an array with more than one element is ambiguous. Use a.any() or a.all()"
     ]
    }
   ],
   "source": [
    "if prediction :\n",
    "    print(\"Prediction is Cat\")\n",
    "else:\n",
    "    print(\"Prediction is Dog\")"
   ]
  },
  {
   "cell_type": "code",
   "execution_count": null,
   "metadata": {},
   "outputs": [],
   "source": []
  }
 ],
 "metadata": {
  "kernelspec": {
   "display_name": "base",
   "language": "python",
   "name": "python3"
  },
  "language_info": {
   "codemirror_mode": {
    "name": "ipython",
    "version": 3
   },
   "file_extension": ".py",
   "mimetype": "text/x-python",
   "name": "python",
   "nbconvert_exporter": "python",
   "pygments_lexer": "ipython3",
   "version": "3.12.7"
  }
 },
 "nbformat": 4,
 "nbformat_minor": 2
}
